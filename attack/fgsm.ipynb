{
 "cells": [
  {
   "cell_type": "code",
   "execution_count": 20,
   "metadata": {},
   "outputs": [],
   "source": [
    "import torch\n",
    "import torch.nn as nn\n",
    "import torch.nn.functional as F\n",
    "import torch.optim as optim\n",
    "from torchvision import datasets, transforms\n",
    "import numpy as np\n",
    "import matplotlib.pyplot as plt\n",
    "\n",
    "import sys\n",
    "import os\n",
    "sys.path.append(os.path.abspath(\"..\"))\n",
    "from datasets import get_transform, get_dataloaders\n",
    "from utils import get_model"
   ]
  },
  {
   "cell_type": "code",
   "execution_count": 25,
   "metadata": {},
   "outputs": [
    {
     "data": {
      "text/plain": [
       "<torch._C.Generator at 0x1e948ee8810>"
      ]
     },
     "execution_count": 25,
     "metadata": {},
     "output_type": "execute_result"
    }
   ],
   "source": [
    "epsilons = [0, .05, .1, .15, .2, .25, .3]\n",
    "pretrained_model_path = \"..\\model_ckpt\\lenet_mnist_model.pth\"\n",
    "data_dir = \"..\\data\"\n",
    "torch.manual_seed(42)"
   ]
  },
  {
   "cell_type": "code",
   "execution_count": 26,
   "metadata": {},
   "outputs": [
    {
     "name": "stdout",
     "output_type": "stream",
     "text": [
      "Using cuda device\n"
     ]
    },
    {
     "data": {
      "text/plain": [
       "LeNet(\n",
       "  (conv1): Conv2d(1, 32, kernel_size=(3, 3), stride=(1, 1))\n",
       "  (conv2): Conv2d(32, 64, kernel_size=(3, 3), stride=(1, 1))\n",
       "  (dropout1): Dropout(p=0.25, inplace=False)\n",
       "  (dropout2): Dropout(p=0.5, inplace=False)\n",
       "  (fc1): Linear(in_features=9216, out_features=128, bias=True)\n",
       "  (fc2): Linear(in_features=128, out_features=10, bias=True)\n",
       ")"
      ]
     },
     "execution_count": 26,
     "metadata": {},
     "output_type": "execute_result"
    }
   ],
   "source": [
    "from models.lenet import LeNet\n",
    "\n",
    "\n",
    "_,_,test_loader = get_dataloaders('mnist',data_dir, batch_size=1)\n",
    "\n",
    "\n",
    "device = \"cuda\" if torch.cuda.is_available() else \"cpu\"\n",
    "print(f\"Using {device} device\")\n",
    "\n",
    "model = LeNet().to(device)\n",
    "\n",
    "model.load_state_dict(torch.load(pretrained_model_path, map_location=device, weights_only=True))\n",
    "\n",
    "\n",
    "model.eval()"
   ]
  },
  {
   "cell_type": "code",
   "execution_count": 27,
   "metadata": {},
   "outputs": [],
   "source": [
    "def fgsm_attack(origin_image,epsilon,data_grad):\n",
    "    sign_data_grad = data_grad.sign()\n",
    "    perturbed_image = origin_image + epsilon*sign_data_grad\n",
    "    perturbed_image = torch.clamp(perturbed_image,0,1)\n",
    "    return perturbed_image\n",
    "\n",
    "def denorm(batch_img,mean=[0.1307],std=[0.3081]):\n",
    "    # batch_img shape:(B,C,H,W)\n",
    "    if isinstance(mean,list):\n",
    "        mean = torch.tensor(mean).to(device)\n",
    "    if isinstance(std,list):\n",
    "        std = torch.tensor(std).to(device)\n",
    "    # adjust shape ro[1,C,1,1],-1 means auto adjust dim size\n",
    "    return batch_img * std.view(1, -1, 1, 1) + mean.view(1, -1, 1, 1)\n",
    "\n",
    "from tqdm import tqdm\n",
    "\n",
    "def attack(model,device,test_loader,epsilon):\n",
    "    correct = 0\n",
    "    adv_examples = []\n",
    "\n",
    "    for idx,(data,target) in enumerate(tqdm(test_loader,desc=\"Attacking\")):\n",
    "        data, target = data.to(device), target.to(device)\n",
    "        data.requires_grad = True\n",
    "        output = model(data)\n",
    "        init_pred = torch.max(output,1,keepdim=True)[1]\n",
    "\n",
    "        if init_pred.item() != target.item():\n",
    "            continue\n",
    "\n",
    "        loss = F.nll_loss(output,target)\n",
    "        model.zero_grad()\n",
    "\n",
    "        loss.backward()\n",
    "        data_grad = data.grad.data\n",
    "\n",
    "        data_denorm = denorm(data)\n",
    "\n",
    "        perturbed_data = fgsm_attack(data_denorm,epsilon,data_grad)\n",
    "\n",
    "        normalize = transforms.Normalize((0.1307,), (0.3081,))\n",
    "        perturbed_data_norm = normalize(perturbed_data)\n",
    "\n",
    "        output = model(perturbed_data_norm)\n",
    "        final_pred = torch.max(output,1,keepdim=True)[1]\n",
    "\n",
    "        if final_pred.item() == target.item():\n",
    "            correct += 1\n",
    "            if epsilon == 0 and len(adv_examples) < 5:\n",
    "                adv_ex = perturbed_data.squeeze().detach().cpu().numpy()\n",
    "                adv_examples.append( (init_pred.item(), final_pred.item(), adv_ex) )\n",
    "        else:\n",
    "            if len(adv_examples) < 5:\n",
    "                adv_ex = perturbed_data.squeeze().detach().cpu().numpy()\n",
    "                adv_examples.append( (init_pred.item(), final_pred.item(), adv_ex) )\n",
    "\n",
    "    final_acc = correct/float(len(test_loader))\n",
    "    print(f\"Epsilon: {epsilon}\\tTest Accuracy = {correct}/{len(test_loader)} = {final_acc:.4f}\")\n",
    "\n",
    "    return final_acc, adv_examples\n",
    "        "
   ]
  },
  {
   "cell_type": "code",
   "execution_count": 28,
   "metadata": {},
   "outputs": [
    {
     "name": "stderr",
     "output_type": "stream",
     "text": [
      "Attacking: 100%|██████████| 10000/10000 [00:31<00:00, 318.96it/s]\n"
     ]
    },
    {
     "name": "stdout",
     "output_type": "stream",
     "text": [
      "Epsilon: 0\tTest Accuracy = 9912/10000 = 0.9912\n"
     ]
    },
    {
     "name": "stderr",
     "output_type": "stream",
     "text": [
      "Attacking: 100%|██████████| 10000/10000 [00:31<00:00, 322.30it/s]\n"
     ]
    },
    {
     "name": "stdout",
     "output_type": "stream",
     "text": [
      "Epsilon: 0.05\tTest Accuracy = 9605/10000 = 0.9605\n"
     ]
    },
    {
     "name": "stderr",
     "output_type": "stream",
     "text": [
      "Attacking: 100%|██████████| 10000/10000 [00:31<00:00, 319.32it/s]\n"
     ]
    },
    {
     "name": "stdout",
     "output_type": "stream",
     "text": [
      "Epsilon: 0.1\tTest Accuracy = 8743/10000 = 0.8743\n"
     ]
    },
    {
     "name": "stderr",
     "output_type": "stream",
     "text": [
      "Attacking: 100%|██████████| 10000/10000 [00:31<00:00, 319.93it/s]\n"
     ]
    },
    {
     "name": "stdout",
     "output_type": "stream",
     "text": [
      "Epsilon: 0.15\tTest Accuracy = 7108/10000 = 0.7108\n"
     ]
    },
    {
     "name": "stderr",
     "output_type": "stream",
     "text": [
      "Attacking: 100%|██████████| 10000/10000 [00:31<00:00, 315.67it/s]\n"
     ]
    },
    {
     "name": "stdout",
     "output_type": "stream",
     "text": [
      "Epsilon: 0.2\tTest Accuracy = 4874/10000 = 0.4874\n"
     ]
    },
    {
     "name": "stderr",
     "output_type": "stream",
     "text": [
      "Attacking: 100%|██████████| 10000/10000 [00:30<00:00, 325.01it/s]\n"
     ]
    },
    {
     "name": "stdout",
     "output_type": "stream",
     "text": [
      "Epsilon: 0.25\tTest Accuracy = 2710/10000 = 0.2710\n"
     ]
    },
    {
     "name": "stderr",
     "output_type": "stream",
     "text": [
      "Attacking: 100%|██████████| 10000/10000 [00:31<00:00, 315.63it/s]"
     ]
    },
    {
     "name": "stdout",
     "output_type": "stream",
     "text": [
      "Epsilon: 0.3\tTest Accuracy = 1420/10000 = 0.1420\n"
     ]
    },
    {
     "name": "stderr",
     "output_type": "stream",
     "text": [
      "\n"
     ]
    }
   ],
   "source": [
    "accuracies = []\n",
    "examples = []\n",
    "\n",
    "# Run test for each epsilon\n",
    "for eps in epsilons:\n",
    "    acc, ex = attack(model, device, test_loader, eps)\n",
    "    accuracies.append(acc)\n",
    "    examples.append(ex)"
   ]
  },
  {
   "cell_type": "code",
   "execution_count": 29,
   "metadata": {},
   "outputs": [
    {
     "data": {
      "image/png": "[encoded data removed]",
      "text/plain": [
       "<Figure size 500x500 with 1 Axes>"
      ]
     },
     "metadata": {},
     "output_type": "display_data"
    }
   ],
   "source": [
    "plt.figure(figsize=(5,5))\n",
    "plt.plot(epsilons, accuracies, \"*-\")\n",
    "plt.yticks(np.arange(0, 1.1, step=0.1))\n",
    "plt.xticks(np.arange(0, .35, step=0.05))\n",
    "plt.title(\"Accuracy vs Epsilon\")\n",
    "plt.xlabel(\"Epsilon\")\n",
    "plt.ylabel(\"Accuracy\")\n",
    "plt.show()"
   ]
  }
 ],
 "metadata": {
  "kernelspec": {
   "display_name": "ml",
   "language": "python",
   "name": "python3"
  },
  "language_info": {
   "codemirror_mode": {
    "name": "ipython",
    "version": 3
   },
   "file_extension": ".py",
   "mimetype": "text/x-python",
   "name": "python",
   "nbconvert_exporter": "python",
   "pygments_lexer": "ipython3",
   "version": "3.10.16"
  }
 },
 "nbformat": 4,
 "nbformat_minor": 2
}
